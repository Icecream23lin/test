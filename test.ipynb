{
  "cells": [
    {
      "cell_type": "code",
      "execution_count": null,
      "id": "904cb157",
      "metadata": {
        "id": "904cb157",
        "outputId": "aa887246-4a6f-4bf0-c968-5db3d7330d8e"
      },
      "outputs": [
        {
          "name": "stdout",
          "output_type": "stream",
          "text": [
            "Collecting blind-watermark\n",
            "  Downloading blind_watermark-0.4.4-py3-none-any.whl (14 kB)\n",
            "Requirement already satisfied: numpy in /Users/icecreamlin/anaconda3/lib/python3.11/site-packages (from blind-watermark) (1.24.3)\n",
            "Collecting opencv-python (from blind-watermark)\n",
            "  Obtaining dependency information for opencv-python from https://files.pythonhosted.org/packages/a1/f6/57de91ea40c670527cd47a6548bf2cbedc68cec57c041793b256356abad7/opencv_python-4.8.1.78-cp37-abi3-macosx_11_0_arm64.whl.metadata\n",
            "  Downloading opencv_python-4.8.1.78-cp37-abi3-macosx_11_0_arm64.whl.metadata (19 kB)\n",
            "Requirement already satisfied: PyWavelets in /Users/icecreamlin/anaconda3/lib/python3.11/site-packages (from blind-watermark) (1.4.1)\n",
            "Downloading opencv_python-4.8.1.78-cp37-abi3-macosx_11_0_arm64.whl (33.1 MB)\n",
            "\u001b[2K   \u001b[90m━━━━━━━━━━━━━━━━━━━━━━━━━━━━━━━━━━━━━━━━\u001b[0m \u001b[32m33.1/33.1 MB\u001b[0m \u001b[31m976.1 kB/s\u001b[0m eta \u001b[36m0:00:00\u001b[0m00:01\u001b[0m:01\u001b[0m0m\n",
            "\u001b[?25hInstalling collected packages: opencv-python, blind-watermark\n",
            "Successfully installed blind-watermark-0.4.4 opencv-python-4.8.1.78\n",
            "Note: you may need to restart the kernel to use updated packages.\n"
          ]
        }
      ],
      "source": [
        "pip install blind-watermark"
      ]
    },
    {
      "cell_type": "code",
      "execution_count": null,
      "id": "53459467",
      "metadata": {
        "id": "53459467",
        "outputId": "eb4d3390-c95d-49d0-cb4a-750b565fefb2"
      },
      "outputs": [
        {
          "name": "stdout",
          "output_type": "stream",
          "text": [
            "\n",
            "Welcome to use blind-watermark, version = 0.4.4\n",
            "Make sure the version is the same when encode and decode\n",
            "Your star means a lot: https://github.com/guofei9987/blind_watermark\n",
            "This message only show once. To close it: `blind_watermark.bw_notes.close()`\n",
            "            \n"
          ]
        }
      ],
      "source": [
        "import cv2\n",
        "import os.path\n",
        "path = '/Users/icecreamlin/Desktop/'\n",
        "\n",
        "from blind_watermark import WaterMarkhhhhh\n",
        "\n",
        "os.chdir(os.path.dirname(path))bbtyb\n",
        "bwm = WaterMark(password_wm=1, password_img=1)\n",
        "# read original image\n",
        "bwm.read_img(path + 'test.png')\n",
        "# read watermark\n",
        "bwm.read_wm(path + 'test2.png')\n",
        "# embed\n",
        "bwm.embed(path + 'output/embedded.png')\n",
        "\n",
        "wm_shape = cv2.imread('test2.png', flags=cv2.IMREAD_GRAYSCALE).shape\n",
        "\n"
      ]
    },
    {
      "cell_type": "code",
      "execution_count": null,
      "id": "a2fc9409",
      "metadata": {
        "id": "a2fc9409",
        "outputId": "56e673ad-69c4-4035-b037-bc435b3b03d5"
      },
      "outputs": [
        {
          "data": {
            "text/plain": [
              "array([[247.41071429, 245.47413793, 250.44642857, ..., 246.65178571,\n",
              "        242.85714286, 252.80172414],\n",
              "       [246.20689655, 248.92857143, 242.54310345, ..., 247.41071429,\n",
              "        245.89285714, 242.85714286],\n",
              "       [249.87068966, 244.00862069, 245.47413793, ..., 249.13793103,\n",
              "        249.6875    , 242.09821429],\n",
              "       ...,\n",
              "       [246.93965517, 242.54310345, 248.40517241, ..., 245.47413793,\n",
              "        250.44642857, 254.26724138],\n",
              "       [245.47413793, 246.93965517, 247.67241379, ..., 241.33928571,\n",
              "        246.93965517, 250.60344828],\n",
              "       [246.93965517, 253.53448276, 249.87068966, ..., 249.87068966,\n",
              "        249.87068966, 239.61206897]])"
            ]
          },
          "execution_count": 2,
          "metadata": {},
          "output_type": "execute_result"
        }
      ],
      "source": [
        "# extract watermark from image:\n",
        "bwm.extract(path + 'output/embedded.png', wm_shape=wm_shape, out_wm_name=path + 'output/wm_extracted.png', mode='img')"
      ]
    },
    {
      "cell_type": "code",
      "execution_count": null,
      "id": "96611d1d",
      "metadata": {
        "id": "96611d1d",
        "outputId": "7a355c4d-a092-41f1-dd61-d724325fc478"
      },
      "outputs": [
        {
          "name": "stdout",
          "output_type": "stream",
          "text": [
            "[1.e-323 0.e+000 0.e+000 1.e-323]\n"
          ]
        }
      ],
      "source": [
        "import numpy as np\n",
        "\n",
        "# 创建一个转移矩阵，这次我们不考虑退出状态，只考虑房间之间的移动\n",
        "P = np.array([\n",
        "    [0, 1/3, 1/3, 0],   # From A\n",
        "    [2/3, 0, 0, 1/3],  # From B\n",
        "    [1/3, 0, 0, 2/3],  # From C\n",
        "    [0, 1/3, 1/3, 0] # From D (注意这里D到D的概率不为0，因为退出不计入此概率矩阵)\n",
        "])\n",
        "\n",
        "# 创建一个初始状态向量，假设我们从房间A开始\n",
        "v = np.array([1, 0, 0, 0])\n",
        "\n",
        "# 模拟转移, 这次我们以一个足够大的数字来近似模拟无限转移，从而接近稳态分布\n",
        "for _ in range(10000):\n",
        "    v = v.dot(P)  # 通过点积进行转移\n",
        "\n",
        "print(v)  # 这会输出每个房间在稳定状态下的概率"
      ]
    },
    {
      "cell_type": "code",
      "execution_count": null,
      "id": "5a2195bd",
      "metadata": {
        "id": "5a2195bd",
        "outputId": "add168a5-cab5-4590-97f3-be3c9599dd40"
      },
      "outputs": [
        {
          "name": "stdout",
          "output_type": "stream",
          "text": [
            "从房间A到房间D的退出概率为： 0.9999999999999983\n"
          ]
        }
      ],
      "source": [
        "import numpy as np\n",
        "\n",
        "# 定义转移矩阵\n",
        "P = np.array([\n",
        "    [1/3, 1/3, 1/3, 0],\n",
        "    [2/3, 0, 0, 1/3],\n",
        "    [1/3, 0, 2/3, 0],\n",
        "    [0, 1/3, 1/3, 1/3]\n",
        "])\n",
        "\n",
        "# 计算基本矩阵\n",
        "Q = P[:3, :3]\n",
        "R = P[:3, 3:]\n",
        "N = np.linalg.inv(np.eye(3) - Q)\n",
        "\n",
        "# 计算吸收概率\n",
        "B = np.dot(N, R)\n",
        "\n",
        "# 打印从房间A到房间D的退出概率\n",
        "print(\"从房间A到房间D的退出概率为：\", B[0, 0])\n"
      ]
    },
    {
      "cell_type": "code",
      "execution_count": null,
      "id": "883b360d",
      "metadata": {
        "tags": [],
        "id": "883b360d",
        "outputId": "bd037392-8b53-46b1-83a6-16f9d6d8698a"
      },
      "outputs": [
        {
          "name": "stdout",
          "output_type": "stream",
          "text": [
            "Project Information System Table saved to 'Project_Information_System_Table.xlsx'\n"
          ]
        }
      ],
      "source": [
        "import pandas as pd\n",
        "\n",
        "# Define the data for the Project Information System Table\n",
        "data = {\n",
        "    \"Information\": [\n",
        "        \"Project Status Report\",\n",
        "        \"Stakeholder Briefing\",\n",
        "        \"Risk Management Report\",\n",
        "        \"Technical Updates for Research\",\n",
        "        \"Public Awareness Communications\",\n",
        "        \"Financial Report & Forecast\",\n",
        "        \"Construction Logistics Updates\",\n",
        "        \"Project Feedback Collection\",\n",
        "        \"Legal and Compliance Reports\"\n",
        "    ],\n",
        "    \"Sender\": [\n",
        "        \"Project Manager\",\n",
        "        \"Project Manager\",\n",
        "        \"Risk Officer\",\n",
        "        \"Engineering Lead\",\n",
        "        \"Communications Lead\",\n",
        "        \"Finance Manager\",\n",
        "        \"Construction Manager\",\n",
        "        \"Project Manager\",\n",
        "        \"Legal Advisor\"\n",
        "    ],\n",
        "    \"Recipient Stakeholder\": [\n",
        "        \"All stakeholders (internal & external)\",\n",
        "        \"UNSW Senior Management, Research Teams\",\n",
        "        \"Project Team, UNSW Management\",\n",
        "        \"Research Team, Project Manager\",\n",
        "        \"Public, Media\",\n",
        "        \"Project Manager, UNSW Management\",\n",
        "        \"Project Team, Suppliers\",\n",
        "        \"All Stakeholders\",\n",
        "        \"UNSW Management\"\n",
        "    ],\n",
        "    \"Frequency\": [\n",
        "        \"Weekly\",\n",
        "        \"Monthly\",\n",
        "        \"Monthly\",\n",
        "        \"Bi-weekly\",\n",
        "        \"Quarterly\",\n",
        "        \"Bi-monthly\",\n",
        "        \"Weekly\",\n",
        "        \"Ad-hoc\",\n",
        "        \"Quarterly\"\n",
        "    ],\n",
        "    \"Method\": [\n",
        "        \"Email, Project Management Software\",\n",
        "        \"Meetings, Emails\",\n",
        "        \"Email, Risk Register (Document)\",\n",
        "        \"Technical Reports, Emails\",\n",
        "        \"Press Releases, Social Media\",\n",
        "        \"Financial Reports, Meetings\",\n",
        "        \"Meetings, Shared Documents\",\n",
        "        \"Surveys, Email\",\n",
        "        \"Compliance Reports, Meetings\"\n",
        "    ],\n",
        "    \"Expected Outcome\": [\n",
        "        \"Stakeholders are updated on project progress and status\",\n",
        "        \"Key stakeholders are informed about major decisions and progress\",\n",
        "        \"Proactive response to potential project risks and mitigation\",\n",
        "        \"Researchers receive timely data on technical performance\",\n",
        "        \"Enhance public and media visibility of UNSW’s sustainability efforts\",\n",
        "        \"Ensure clear understanding of budget status and financial forecast\",\n",
        "        \"Effective coordination between construction and suppliers\",\n",
        "        \"Gather feedback to improve stakeholder engagement and communication\",\n",
        "        \"Ensure project adheres to all legal and regulatory requirements\"\n",
        "    ],\n",
        "    \"Owner\": [\n",
        "        \"Project Manager\",\n",
        "        \"Project Manager\",\n",
        "        \"Risk Officer\",\n",
        "        \"Engineering Lead\",\n",
        "        \"Communications Lead\",\n",
        "        \"Finance Manager\",\n",
        "        \"Construction Manager\",\n",
        "        \"Project Manager\",\n",
        "        \"Legal Advisor\"\n",
        "    ]\n",
        "}\n",
        "\n",
        "# Create a DataFrame\n",
        "df = pd.DataFrame(data)\n",
        "\n",
        "# Save the DataFrame to an Excel file\n",
        "df.to_excel(\"Project_Information_System_Table.xlsx\", index=False)\n",
        "\n",
        "print(\"Project Information System Table saved to 'Project_Information_System_Table.xlsx'\")\n"
      ]
    }
  ],
  "metadata": {
    "kernelspec": {
      "display_name": "Python 3 (ipykernel)",
      "language": "python",
      "name": "python3"
    },
    "language_info": {
      "codemirror_mode": {
        "name": "ipython",
        "version": 3
      },
      "file_extension": ".py",
      "mimetype": "text/x-python",
      "name": "python",
      "nbconvert_exporter": "python",
      "pygments_lexer": "ipython3",
      "version": "3.11.4"
    },
    "colab": {
      "provenance": []
    }
  },
  "nbformat": 4,
  "nbformat_minor": 5
}